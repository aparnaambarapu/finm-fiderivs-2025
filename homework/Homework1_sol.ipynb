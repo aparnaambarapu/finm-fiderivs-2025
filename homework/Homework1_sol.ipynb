{
 "cells": [
  {
   "cell_type": "markdown",
   "metadata": {},
   "source": [
    "# Homework 1\n",
    "\n",
    "## FINM 37500: Fixed Income Derivatives\n",
    "\n",
    "### Mark Hendricks\n",
    "\n",
    "#### Winter 2025"
   ]
  },
  {
   "cell_type": "markdown",
   "metadata": {},
   "source": [
    "***"
   ]
  },
  {
   "cell_type": "code",
   "execution_count": 180,
   "metadata": {},
   "outputs": [],
   "source": [
    "import numpy as np\n",
    "import pandas as pd\n",
    "\n",
    "import sys\n",
    "sys.path.insert(0, '../cmds')\n",
    "from ficcvol import *\n",
    "from ratecurves import *\n",
    "from treasury_cmds import *"
   ]
  },
  {
   "cell_type": "code",
   "execution_count": 181,
   "metadata": {},
   "outputs": [],
   "source": [
    "import datetime\n",
    "import warnings\n",
    "warnings.filterwarnings('ignore',category=FutureWarning)\n",
    "import matplotlib.pyplot as plt\n",
    "import seaborn as sns"
   ]
  },
  {
   "cell_type": "markdown",
   "metadata": {},
   "source": [
    "# 1. Pricing the Callable Bond"
   ]
  },
  {
   "cell_type": "markdown",
   "metadata": {},
   "source": [
    "### Data\n",
    "\n",
    "Use the data from the following files.\n",
    "* `../data/callable_bonds_2025-02-13.xlsx`\n",
    "* `../data/discount_curve_2025-02-13.xlsx`"
   ]
  },
  {
   "cell_type": "markdown",
   "metadata": {},
   "source": [
    "The data contains info on the following bonds.\n",
    "\n",
    "`Callable`\n",
    "* `FHLMC 4.41 01/28/30` is a callable bond, and it is the primary object of our analysis.\n",
    "\n",
    "`Reference` bonds for a forward price.\n",
    "* `FHLMC 0.97 01/28/28`\n",
    "* `FHLMC 1.25 01/29/30`\n",
    "\n",
    "Though these are technically callable, they are far out of the money. Thus, for the purposes of this analysis, we consider the reference bonds as non-callable bonds.\n",
    "\n",
    "These reference bonds are analyzed in optional problems at the end, but mostly you will focus on the `callable` bond."
   ]
  },
  {
   "cell_type": "code",
   "execution_count": 182,
   "metadata": {},
   "outputs": [],
   "source": [
    "FILE_BOND = '../data/callable_bonds_2025-02-13.xlsx'\n",
    "FILE_CURVE = '../data/discount_curve_2025-02-13.xlsx'\n",
    "\n",
    "KEY_CALLABLE = 'FHLMC 4.41 01/28/30'\n",
    "KEY_REF_T1 = 'FHLMC 0.97 01/28/28'\n",
    "KEY_REF_T2 = 'FHLMC 1 1/4 01/29/30'"
   ]
  },
  {
   "cell_type": "markdown",
   "metadata": {},
   "source": [
    "### Bond Info"
   ]
  },
  {
   "cell_type": "code",
   "execution_count": 183,
   "metadata": {},
   "outputs": [
    {
     "data": {
      "text/html": [
       "<style type=\"text/css\">\n",
       "</style>\n",
       "<table id=\"T_8e9a1\">\n",
       "  <thead>\n",
       "    <tr>\n",
       "      <th class=\"blank level0\" >&nbsp;</th>\n",
       "      <th id=\"T_8e9a1_level0_col0\" class=\"col_heading level0 col0\" >FHLMC 0.97 01/28/28</th>\n",
       "      <th id=\"T_8e9a1_level0_col1\" class=\"col_heading level0 col1\" >FHLMC 1 1/4 01/29/30</th>\n",
       "      <th id=\"T_8e9a1_level0_col2\" class=\"col_heading level0 col2\" >FHLMC 4.41 01/28/30</th>\n",
       "    </tr>\n",
       "    <tr>\n",
       "      <th class=\"index_name level0\" >info</th>\n",
       "      <th class=\"blank col0\" >&nbsp;</th>\n",
       "      <th class=\"blank col1\" >&nbsp;</th>\n",
       "      <th class=\"blank col2\" >&nbsp;</th>\n",
       "    </tr>\n",
       "  </thead>\n",
       "  <tbody>\n",
       "    <tr>\n",
       "      <th id=\"T_8e9a1_level0_row0\" class=\"row_heading level0 row0\" >CUSIP</th>\n",
       "      <td id=\"T_8e9a1_row0_col0\" class=\"data row0 col0\" >3134GW5F9</td>\n",
       "      <td id=\"T_8e9a1_row0_col1\" class=\"data row0 col1\" >3134GWGK6</td>\n",
       "      <td id=\"T_8e9a1_row0_col2\" class=\"data row0 col2\" >3134HA4V2</td>\n",
       "    </tr>\n",
       "    <tr>\n",
       "      <th id=\"T_8e9a1_level0_row1\" class=\"row_heading level0 row1\" >Issuer</th>\n",
       "      <td id=\"T_8e9a1_row1_col0\" class=\"data row1 col0\" >FREDDIE MAC</td>\n",
       "      <td id=\"T_8e9a1_row1_col1\" class=\"data row1 col1\" >FREDDIE MAC</td>\n",
       "      <td id=\"T_8e9a1_row1_col2\" class=\"data row1 col2\" >FREDDIE MAC</td>\n",
       "    </tr>\n",
       "    <tr>\n",
       "      <th id=\"T_8e9a1_level0_row2\" class=\"row_heading level0 row2\" >Maturity Type</th>\n",
       "      <td id=\"T_8e9a1_row2_col0\" class=\"data row2 col0\" >CALLABLE</td>\n",
       "      <td id=\"T_8e9a1_row2_col1\" class=\"data row2 col1\" >CALLABLE</td>\n",
       "      <td id=\"T_8e9a1_row2_col2\" class=\"data row2 col2\" >CALLABLE</td>\n",
       "    </tr>\n",
       "    <tr>\n",
       "      <th id=\"T_8e9a1_level0_row3\" class=\"row_heading level0 row3\" >Issuer Industry</th>\n",
       "      <td id=\"T_8e9a1_row3_col0\" class=\"data row3 col0\" >GOVT AGENCY</td>\n",
       "      <td id=\"T_8e9a1_row3_col1\" class=\"data row3 col1\" >GOVT AGENCY</td>\n",
       "      <td id=\"T_8e9a1_row3_col2\" class=\"data row3 col2\" >GOVT AGENCY</td>\n",
       "    </tr>\n",
       "    <tr>\n",
       "      <th id=\"T_8e9a1_level0_row4\" class=\"row_heading level0 row4\" >Amount Issued</th>\n",
       "      <td id=\"T_8e9a1_row4_col0\" class=\"data row4 col0\" >30,000,000</td>\n",
       "      <td id=\"T_8e9a1_row4_col1\" class=\"data row4 col1\" >25,000,000</td>\n",
       "      <td id=\"T_8e9a1_row4_col2\" class=\"data row4 col2\" >10,000,000</td>\n",
       "    </tr>\n",
       "    <tr>\n",
       "      <th id=\"T_8e9a1_level0_row5\" class=\"row_heading level0 row5\" >Cpn Rate</th>\n",
       "      <td id=\"T_8e9a1_row5_col0\" class=\"data row5 col0\" >0.97%</td>\n",
       "      <td id=\"T_8e9a1_row5_col1\" class=\"data row5 col1\" >1.25%</td>\n",
       "      <td id=\"T_8e9a1_row5_col2\" class=\"data row5 col2\" >4.41%</td>\n",
       "    </tr>\n",
       "    <tr>\n",
       "      <th id=\"T_8e9a1_level0_row6\" class=\"row_heading level0 row6\" >Cpn Freq</th>\n",
       "      <td id=\"T_8e9a1_row6_col0\" class=\"data row6 col0\" >2</td>\n",
       "      <td id=\"T_8e9a1_row6_col1\" class=\"data row6 col1\" >2</td>\n",
       "      <td id=\"T_8e9a1_row6_col2\" class=\"data row6 col2\" >2</td>\n",
       "    </tr>\n",
       "    <tr>\n",
       "      <th id=\"T_8e9a1_level0_row7\" class=\"row_heading level0 row7\" >Date Quoted</th>\n",
       "      <td id=\"T_8e9a1_row7_col0\" class=\"data row7 col0\" >2025-02-13</td>\n",
       "      <td id=\"T_8e9a1_row7_col1\" class=\"data row7 col1\" >2025-02-13</td>\n",
       "      <td id=\"T_8e9a1_row7_col2\" class=\"data row7 col2\" >2025-02-13</td>\n",
       "    </tr>\n",
       "    <tr>\n",
       "      <th id=\"T_8e9a1_level0_row8\" class=\"row_heading level0 row8\" >Date Issued</th>\n",
       "      <td id=\"T_8e9a1_row8_col0\" class=\"data row8 col0\" >2020-10-28</td>\n",
       "      <td id=\"T_8e9a1_row8_col1\" class=\"data row8 col1\" >2020-07-29</td>\n",
       "      <td id=\"T_8e9a1_row8_col2\" class=\"data row8 col2\" >2025-01-28</td>\n",
       "    </tr>\n",
       "    <tr>\n",
       "      <th id=\"T_8e9a1_level0_row9\" class=\"row_heading level0 row9\" >Date Matures</th>\n",
       "      <td id=\"T_8e9a1_row9_col0\" class=\"data row9 col0\" >2028-01-28</td>\n",
       "      <td id=\"T_8e9a1_row9_col1\" class=\"data row9 col1\" >2030-01-29</td>\n",
       "      <td id=\"T_8e9a1_row9_col2\" class=\"data row9 col2\" >2030-01-28</td>\n",
       "    </tr>\n",
       "    <tr>\n",
       "      <th id=\"T_8e9a1_level0_row10\" class=\"row_heading level0 row10\" >Date of First Possible Call</th>\n",
       "      <td id=\"T_8e9a1_row10_col0\" class=\"data row10 col0\" >2021-01-28 00:00:00</td>\n",
       "      <td id=\"T_8e9a1_row10_col1\" class=\"data row10 col1\" >2021-01-29 00:00:00</td>\n",
       "      <td id=\"T_8e9a1_row10_col2\" class=\"data row10 col2\" >2028-01-28 00:00:00</td>\n",
       "    </tr>\n",
       "    <tr>\n",
       "      <th id=\"T_8e9a1_level0_row11\" class=\"row_heading level0 row11\" >Date Next Call</th>\n",
       "      <td id=\"T_8e9a1_row11_col0\" class=\"data row11 col0\" >2025-04-28</td>\n",
       "      <td id=\"T_8e9a1_row11_col1\" class=\"data row11 col1\" >2025-04-29</td>\n",
       "      <td id=\"T_8e9a1_row11_col2\" class=\"data row11 col2\" >2028-01-28</td>\n",
       "    </tr>\n",
       "    <tr>\n",
       "      <th id=\"T_8e9a1_level0_row12\" class=\"row_heading level0 row12\" >Strike</th>\n",
       "      <td id=\"T_8e9a1_row12_col0\" class=\"data row12 col0\" >100</td>\n",
       "      <td id=\"T_8e9a1_row12_col1\" class=\"data row12 col1\" >100</td>\n",
       "      <td id=\"T_8e9a1_row12_col2\" class=\"data row12 col2\" >100</td>\n",
       "    </tr>\n",
       "  </tbody>\n",
       "</table>\n"
      ],
      "text/plain": [
       "<pandas.io.formats.style.Styler at 0x15cd57050>"
      ]
     },
     "execution_count": 183,
     "metadata": {},
     "output_type": "execute_result"
    }
   ],
   "source": [
    "import pandas as pd\n",
    "\n",
    "info = pd.read_excel(FILE_BOND,sheet_name='info').set_index('info')\n",
    "info.style.format('{:.2%}',subset=pd.IndexSlice[[\"Cpn Rate\"], :]).format('{:,.0f}',subset=pd.IndexSlice[[\"Amount Issued\"], :]).format('{:%Y-%m-%d}',subset=pd.IndexSlice[[\"Date Quoted\",\"Date Issued\",\"Date Matures\",\"Date Next Call\"], :])"
   ]
  },
  {
   "cell_type": "code",
   "execution_count": 184,
   "metadata": {},
   "outputs": [
    {
     "data": {
      "text/plain": [
       "FHLMC 0.97 01/28/28     0.0097\n",
       "FHLMC 1 1/4 01/29/30    0.0125\n",
       "FHLMC 4.41 01/28/30     0.0441\n",
       "Name: Cpn Rate, dtype: object"
      ]
     },
     "execution_count": 184,
     "metadata": {},
     "output_type": "execute_result"
    }
   ],
   "source": [
    "info.loc['Cpn Rate']"
   ]
  },
  {
   "cell_type": "markdown",
   "metadata": {},
   "source": [
    "### Quoted Values"
   ]
  },
  {
   "cell_type": "code",
   "execution_count": 185,
   "metadata": {},
   "outputs": [
    {
     "data": {
      "text/html": [
       "<style type=\"text/css\">\n",
       "</style>\n",
       "<table id=\"T_25928\">\n",
       "  <thead>\n",
       "    <tr>\n",
       "      <th class=\"blank level0\" >&nbsp;</th>\n",
       "      <th id=\"T_25928_level0_col0\" class=\"col_heading level0 col0\" >FHLMC 0.97 01/28/28</th>\n",
       "      <th id=\"T_25928_level0_col1\" class=\"col_heading level0 col1\" >FHLMC 1 1/4 01/29/30</th>\n",
       "      <th id=\"T_25928_level0_col2\" class=\"col_heading level0 col2\" >FHLMC 4.41 01/28/30</th>\n",
       "    </tr>\n",
       "    <tr>\n",
       "      <th class=\"index_name level0\" >quotes</th>\n",
       "      <th class=\"blank col0\" >&nbsp;</th>\n",
       "      <th class=\"blank col1\" >&nbsp;</th>\n",
       "      <th class=\"blank col2\" >&nbsp;</th>\n",
       "    </tr>\n",
       "  </thead>\n",
       "  <tbody>\n",
       "    <tr>\n",
       "      <th id=\"T_25928_level0_row0\" class=\"row_heading level0 row0\" >Date Quoted</th>\n",
       "      <td id=\"T_25928_row0_col0\" class=\"data row0 col0\" >2025-02-13</td>\n",
       "      <td id=\"T_25928_row0_col1\" class=\"data row0 col1\" >2025-02-13</td>\n",
       "      <td id=\"T_25928_row0_col2\" class=\"data row0 col2\" >2025-02-13</td>\n",
       "    </tr>\n",
       "    <tr>\n",
       "      <th id=\"T_25928_level0_row1\" class=\"row_heading level0 row1\" >TTM</th>\n",
       "      <td id=\"T_25928_row1_col0\" class=\"data row1 col0\" >2.95</td>\n",
       "      <td id=\"T_25928_row1_col1\" class=\"data row1 col1\" >4.96</td>\n",
       "      <td id=\"T_25928_row1_col2\" class=\"data row1 col2\" >4.96</td>\n",
       "    </tr>\n",
       "    <tr>\n",
       "      <th id=\"T_25928_level0_row2\" class=\"row_heading level0 row2\" >Clean Price</th>\n",
       "      <td id=\"T_25928_row2_col0\" class=\"data row2 col0\" >90.14</td>\n",
       "      <td id=\"T_25928_row2_col1\" class=\"data row2 col1\" >85.11</td>\n",
       "      <td id=\"T_25928_row2_col2\" class=\"data row2 col2\" >99.89</td>\n",
       "    </tr>\n",
       "    <tr>\n",
       "      <th id=\"T_25928_level0_row3\" class=\"row_heading level0 row3\" >Dirty Price</th>\n",
       "      <td id=\"T_25928_row3_col0\" class=\"data row3 col0\" >90.19</td>\n",
       "      <td id=\"T_25928_row3_col1\" class=\"data row3 col1\" >85.16</td>\n",
       "      <td id=\"T_25928_row3_col2\" class=\"data row3 col2\" >100.09</td>\n",
       "    </tr>\n",
       "    <tr>\n",
       "      <th id=\"T_25928_level0_row4\" class=\"row_heading level0 row4\" >Accrued Interest</th>\n",
       "      <td id=\"T_25928_row4_col0\" class=\"data row4 col0\" >0.04</td>\n",
       "      <td id=\"T_25928_row4_col1\" class=\"data row4 col1\" >0.05</td>\n",
       "      <td id=\"T_25928_row4_col2\" class=\"data row4 col2\" >0.20</td>\n",
       "    </tr>\n",
       "    <tr>\n",
       "      <th id=\"T_25928_level0_row5\" class=\"row_heading level0 row5\" >YTM Call</th>\n",
       "      <td id=\"T_25928_row5_col0\" class=\"data row5 col0\" >54.24</td>\n",
       "      <td id=\"T_25928_row5_col1\" class=\"data row5 col1\" >85.40</td>\n",
       "      <td id=\"T_25928_row5_col2\" class=\"data row5 col2\" >4.45</td>\n",
       "    </tr>\n",
       "    <tr>\n",
       "      <th id=\"T_25928_level0_row6\" class=\"row_heading level0 row6\" >YTM Maturity</th>\n",
       "      <td id=\"T_25928_row6_col0\" class=\"data row6 col0\" >4.57</td>\n",
       "      <td id=\"T_25928_row6_col1\" class=\"data row6 col1\" >4.65</td>\n",
       "      <td id=\"T_25928_row6_col2\" class=\"data row6 col2\" >4.43</td>\n",
       "    </tr>\n",
       "    <tr>\n",
       "      <th id=\"T_25928_level0_row7\" class=\"row_heading level0 row7\" >Duration</th>\n",
       "      <td id=\"T_25928_row7_col0\" class=\"data row7 col0\" >2.92</td>\n",
       "      <td id=\"T_25928_row7_col1\" class=\"data row7 col1\" >4.81</td>\n",
       "      <td id=\"T_25928_row7_col2\" class=\"data row7 col2\" >4.50</td>\n",
       "    </tr>\n",
       "    <tr>\n",
       "      <th id=\"T_25928_level0_row8\" class=\"row_heading level0 row8\" >Modified Duration</th>\n",
       "      <td id=\"T_25928_row8_col0\" class=\"data row8 col0\" >2.85</td>\n",
       "      <td id=\"T_25928_row8_col1\" class=\"data row8 col1\" >4.70</td>\n",
       "      <td id=\"T_25928_row8_col2\" class=\"data row8 col2\" >4.40</td>\n",
       "    </tr>\n",
       "    <tr>\n",
       "      <th id=\"T_25928_level0_row9\" class=\"row_heading level0 row9\" >Convexity</th>\n",
       "      <td id=\"T_25928_row9_col0\" class=\"data row9 col0\" >0.10</td>\n",
       "      <td id=\"T_25928_row9_col1\" class=\"data row9 col1\" >0.25</td>\n",
       "      <td id=\"T_25928_row9_col2\" class=\"data row9 col2\" >0.23</td>\n",
       "    </tr>\n",
       "    <tr>\n",
       "      <th id=\"T_25928_level0_row10\" class=\"row_heading level0 row10\" >Treasury YLD Spread</th>\n",
       "      <td id=\"T_25928_row10_col0\" class=\"data row10 col0\" >25.14</td>\n",
       "      <td id=\"T_25928_row10_col1\" class=\"data row10 col1\" >26.01</td>\n",
       "      <td id=\"T_25928_row10_col2\" class=\"data row10 col2\" >4.71</td>\n",
       "    </tr>\n",
       "    <tr>\n",
       "      <th id=\"T_25928_level0_row11\" class=\"row_heading level0 row11\" >OAS Spread</th>\n",
       "      <td id=\"T_25928_row11_col0\" class=\"data row11 col0\" >25.83</td>\n",
       "      <td id=\"T_25928_row11_col1\" class=\"data row11 col1\" >25.97</td>\n",
       "      <td id=\"T_25928_row11_col2\" class=\"data row11 col2\" >-26.77</td>\n",
       "    </tr>\n",
       "    <tr>\n",
       "      <th id=\"T_25928_level0_row12\" class=\"row_heading level0 row12\" >Implied Vol</th>\n",
       "      <td id=\"T_25928_row12_col0\" class=\"data row12 col0\" >19.60</td>\n",
       "      <td id=\"T_25928_row12_col1\" class=\"data row12 col1\" >21.09</td>\n",
       "      <td id=\"T_25928_row12_col2\" class=\"data row12 col2\" >23.88</td>\n",
       "    </tr>\n",
       "  </tbody>\n",
       "</table>\n"
      ],
      "text/plain": [
       "<pandas.io.formats.style.Styler at 0x15d33d9d0>"
      ]
     },
     "execution_count": 185,
     "metadata": {},
     "output_type": "execute_result"
    }
   ],
   "source": [
    "quotes = pd.read_excel(FILE_BOND,sheet_name='quotes').set_index('quotes')\n",
    "quotes.style.format('{:.2f}', subset=pd.IndexSlice[quotes.index[1:], :]).format('{:%Y-%m-%d}', subset=pd.IndexSlice['Date Quoted', :])"
   ]
  },
  {
   "cell_type": "code",
   "execution_count": 186,
   "metadata": {},
   "outputs": [
    {
     "data": {
      "text/plain": [
       "Index(['Date Quoted', 'TTM', 'Clean Price', 'Dirty Price', 'Accrued Interest',\n",
       "       'YTM Call', 'YTM Maturity', 'Duration', 'Modified Duration',\n",
       "       'Convexity', 'Treasury YLD Spread', 'OAS Spread', 'Implied Vol'],\n",
       "      dtype='object', name='quotes')"
      ]
     },
     "execution_count": 186,
     "metadata": {},
     "output_type": "execute_result"
    }
   ],
   "source": [
    "quotes.index"
   ]
  },
  {
   "cell_type": "markdown",
   "metadata": {},
   "source": [
    "### Discount Curves"
   ]
  },
  {
   "cell_type": "code",
   "execution_count": 187,
   "metadata": {},
   "outputs": [
    {
     "data": {
      "text/html": [
       "<div>\n",
       "<style scoped>\n",
       "    .dataframe tbody tr th:only-of-type {\n",
       "        vertical-align: middle;\n",
       "    }\n",
       "\n",
       "    .dataframe tbody tr th {\n",
       "        vertical-align: top;\n",
       "    }\n",
       "\n",
       "    .dataframe thead th {\n",
       "        text-align: right;\n",
       "    }\n",
       "</style>\n",
       "<table border=\"1\" class=\"dataframe\">\n",
       "  <thead>\n",
       "    <tr style=\"text-align: right;\">\n",
       "      <th></th>\n",
       "      <th>maturity date</th>\n",
       "      <th>spot rate</th>\n",
       "      <th>discount</th>\n",
       "    </tr>\n",
       "    <tr>\n",
       "      <th>ttm</th>\n",
       "      <th></th>\n",
       "      <th></th>\n",
       "      <th></th>\n",
       "    </tr>\n",
       "  </thead>\n",
       "  <tbody>\n",
       "    <tr>\n",
       "      <th>0.5</th>\n",
       "      <td>2025-08-13</td>\n",
       "      <td>0.043743</td>\n",
       "      <td>0.978597</td>\n",
       "    </tr>\n",
       "    <tr>\n",
       "      <th>1.0</th>\n",
       "      <td>2026-02-13</td>\n",
       "      <td>0.042890</td>\n",
       "      <td>0.958451</td>\n",
       "    </tr>\n",
       "    <tr>\n",
       "      <th>1.5</th>\n",
       "      <td>2026-08-13</td>\n",
       "      <td>0.042238</td>\n",
       "      <td>0.939228</td>\n",
       "    </tr>\n",
       "    <tr>\n",
       "      <th>2.0</th>\n",
       "      <td>2027-02-13</td>\n",
       "      <td>0.041843</td>\n",
       "      <td>0.920515</td>\n",
       "    </tr>\n",
       "    <tr>\n",
       "      <th>2.5</th>\n",
       "      <td>2027-08-13</td>\n",
       "      <td>0.041632</td>\n",
       "      <td>0.902117</td>\n",
       "    </tr>\n",
       "  </tbody>\n",
       "</table>\n",
       "</div>"
      ],
      "text/plain": [
       "    maturity date  spot rate  discount\n",
       "ttm                                   \n",
       "0.5    2025-08-13   0.043743  0.978597\n",
       "1.0    2026-02-13   0.042890  0.958451\n",
       "1.5    2026-08-13   0.042238  0.939228\n",
       "2.0    2027-02-13   0.041843  0.920515\n",
       "2.5    2027-08-13   0.041632  0.902117"
      ]
     },
     "metadata": {},
     "output_type": "display_data"
    },
    {
     "data": {
      "text/html": [
       "<div>\n",
       "<style scoped>\n",
       "    .dataframe tbody tr th:only-of-type {\n",
       "        vertical-align: middle;\n",
       "    }\n",
       "\n",
       "    .dataframe tbody tr th {\n",
       "        vertical-align: top;\n",
       "    }\n",
       "\n",
       "    .dataframe thead th {\n",
       "        text-align: right;\n",
       "    }\n",
       "</style>\n",
       "<table border=\"1\" class=\"dataframe\">\n",
       "  <thead>\n",
       "    <tr style=\"text-align: right;\">\n",
       "      <th></th>\n",
       "      <th>maturity date</th>\n",
       "      <th>spot rate</th>\n",
       "      <th>discount</th>\n",
       "    </tr>\n",
       "    <tr>\n",
       "      <th>ttm</th>\n",
       "      <th></th>\n",
       "      <th></th>\n",
       "      <th></th>\n",
       "    </tr>\n",
       "  </thead>\n",
       "  <tbody>\n",
       "    <tr>\n",
       "      <th>28.0</th>\n",
       "      <td>2053-02-13</td>\n",
       "      <td>0.040185</td>\n",
       "      <td>0.328231</td>\n",
       "    </tr>\n",
       "    <tr>\n",
       "      <th>28.5</th>\n",
       "      <td>2053-08-13</td>\n",
       "      <td>0.040051</td>\n",
       "      <td>0.322978</td>\n",
       "    </tr>\n",
       "    <tr>\n",
       "      <th>29.0</th>\n",
       "      <td>2054-02-13</td>\n",
       "      <td>0.039916</td>\n",
       "      <td>0.317851</td>\n",
       "    </tr>\n",
       "    <tr>\n",
       "      <th>29.5</th>\n",
       "      <td>2054-08-13</td>\n",
       "      <td>0.039791</td>\n",
       "      <td>0.312766</td>\n",
       "    </tr>\n",
       "    <tr>\n",
       "      <th>30.0</th>\n",
       "      <td>2055-02-13</td>\n",
       "      <td>0.039665</td>\n",
       "      <td>0.307802</td>\n",
       "    </tr>\n",
       "  </tbody>\n",
       "</table>\n",
       "</div>"
      ],
      "text/plain": [
       "     maturity date  spot rate  discount\n",
       "ttm                                    \n",
       "28.0    2053-02-13   0.040185  0.328231\n",
       "28.5    2053-08-13   0.040051  0.322978\n",
       "29.0    2054-02-13   0.039916  0.317851\n",
       "29.5    2054-08-13   0.039791  0.312766\n",
       "30.0    2055-02-13   0.039665  0.307802"
      ]
     },
     "metadata": {},
     "output_type": "display_data"
    }
   ],
   "source": [
    "discs = pd.read_excel(FILE_CURVE,sheet_name='discount curve').set_index('ttm')\n",
    "display(discs.head())\n",
    "display(discs.tail())"
   ]
  },
  {
   "cell_type": "code",
   "execution_count": 188,
   "metadata": {},
   "outputs": [
    {
     "data": {
      "text/plain": [
       "Index([ 0.5,  1.0,  1.5,  2.0,  2.5,  3.0,  3.5,  4.0,  4.5,  5.0,  5.5,  6.0,\n",
       "        6.5,  7.0,  7.5,  8.0,  8.5,  9.0,  9.5, 10.0, 10.5, 11.0, 11.5, 12.0,\n",
       "       12.5, 13.0, 13.5, 14.0, 14.5, 15.0, 15.5, 16.0, 16.5, 17.0, 17.5, 18.0,\n",
       "       18.5, 19.0, 19.5, 20.0, 20.5, 21.0, 21.5, 22.0, 22.5, 23.0, 23.5, 24.0,\n",
       "       24.5, 25.0, 25.5, 26.0, 26.5, 27.0, 27.5, 28.0, 28.5, 29.0, 29.5, 30.0],\n",
       "      dtype='float64', name='ttm')"
      ]
     },
     "execution_count": 188,
     "metadata": {},
     "output_type": "execute_result"
    }
   ],
   "source": [
    "discs.index"
   ]
  },
  {
   "cell_type": "code",
   "execution_count": 189,
   "metadata": {},
   "outputs": [
    {
     "data": {
      "text/plain": [
       "Index(['maturity date', 'spot rate', 'discount'], dtype='object')"
      ]
     },
     "execution_count": 189,
     "metadata": {},
     "output_type": "execute_result"
    }
   ],
   "source": [
    "discs.columns"
   ]
  },
  {
   "cell_type": "markdown",
   "metadata": {},
   "source": [
    "***"
   ]
  },
  {
   "cell_type": "markdown",
   "metadata": {},
   "source": [
    "### 1.1.\n",
    "\n",
    "Use the discount curve data to price both the `callable` and `reference` bonds.\n",
    "\n",
    "For now, calculate the price of the `callable` bond as if it were non-callable. We refer to this as the `hypothetical` bond."
   ]
  },
  {
   "cell_type": "code",
   "execution_count": 190,
   "metadata": {},
   "outputs": [],
   "source": [
    "def calc_cashflows_2(quote_data, discs, bond_info):\n",
    "    maturity_dates = bond_info.loc['Date Matures']\n",
    "    quote_dates = quote_data.loc['Date Quoted']\n",
    "    coupon_rates = bond_info.loc['Cpn Rate'].astype(float)\n",
    "    ttm = quote_data.loc['TTM']\n",
    "    freq = bond_info.loc['Cpn Freq'].iloc[0]\n",
    "    face_value = 100\n",
    "\n",
    "    CF = pd.DataFrame(dtype=float, index=quote_data.columns, columns=discs.index)\n",
    "\n",
    "    for bond in quote_data.columns:\n",
    "        maturity = ttm[bond]\n",
    "        coupon_payment = coupon_rates[bond] * face_value / freq\n",
    "        \n",
    "        coupon_dates = np.arange((1/freq), maturity + (1/freq),(1/freq))\n",
    "        cashflows = pd.Series(data=coupon_payment, index=coupon_dates)\n",
    "        cashflows.iloc[-1] += face_value \n",
    "        \n",
    "        CF.loc[bond, cashflows.index] = cashflows.values\n",
    "    CF = CF.fillna(0).sort_index(axis=1)\n",
    "    \n",
    "    return CF\n"
   ]
  },
  {
   "cell_type": "code",
   "execution_count": 192,
   "metadata": {},
   "outputs": [],
   "source": [
    "cashflows = calc_cashflows_2(quotes, discs, bond_info=info)\n",
    "bond_prices = (cashflows * discs.loc[cashflows.columns, 'discount']).sum(axis=1)\n",
    "\n",
    "bond_prices_df = pd.DataFrame(bond_prices, columns=['Hypothetical Price'])\n"
   ]
  },
  {
   "cell_type": "code",
   "execution_count": 193,
   "metadata": {},
   "outputs": [
    {
     "data": {
      "text/html": [
       "<div>\n",
       "<style scoped>\n",
       "    .dataframe tbody tr th:only-of-type {\n",
       "        vertical-align: middle;\n",
       "    }\n",
       "\n",
       "    .dataframe tbody tr th {\n",
       "        vertical-align: top;\n",
       "    }\n",
       "\n",
       "    .dataframe thead th {\n",
       "        text-align: right;\n",
       "    }\n",
       "</style>\n",
       "<table border=\"1\" class=\"dataframe\">\n",
       "  <thead>\n",
       "    <tr style=\"text-align: right;\">\n",
       "      <th></th>\n",
       "      <th>Hypothetical Price</th>\n",
       "    </tr>\n",
       "  </thead>\n",
       "  <tbody>\n",
       "    <tr>\n",
       "      <th>FHLMC 0.97 01/28/28</th>\n",
       "      <td>91.116157</td>\n",
       "    </tr>\n",
       "    <tr>\n",
       "      <th>FHLMC 1 1/4 01/29/30</th>\n",
       "      <td>87.093759</td>\n",
       "    </tr>\n",
       "    <tr>\n",
       "      <th>FHLMC 4.41 01/28/30</th>\n",
       "      <td>101.227143</td>\n",
       "    </tr>\n",
       "  </tbody>\n",
       "</table>\n",
       "</div>"
      ],
      "text/plain": [
       "                      Hypothetical Price\n",
       "FHLMC 0.97 01/28/28            91.116157\n",
       "FHLMC 1 1/4 01/29/30           87.093759\n",
       "FHLMC 4.41 01/28/30           101.227143"
      ]
     },
     "execution_count": 193,
     "metadata": {},
     "output_type": "execute_result"
    }
   ],
   "source": [
    "bond_prices_df"
   ]
  },
  {
   "cell_type": "code",
   "execution_count": 194,
   "metadata": {},
   "outputs": [],
   "source": [
    "hypothetical_bond_name = 'FHLMC 4.41 01/28/30'\n",
    "hypothetical_bond_price = bond_prices_df.loc['FHLMC 4.41 01/28/30'][0]"
   ]
  },
  {
   "cell_type": "markdown",
   "metadata": {},
   "source": [
    "### 1.2.\n",
    "\n",
    "Calculate the forward price of the `hypothetical` bond as of the date that the `callable` bond can be exercised.\n",
    "\n",
    "Use the information from the discount curve (and associated forward curve) to calculate this forward price."
   ]
  },
  {
   "cell_type": "code",
   "execution_count": 195,
   "metadata": {},
   "outputs": [],
   "source": [
    "def calc_forward_price(hypothetical_bond, quotes, discs, bond_prices_df, info):\n",
    "    T0 = round(quotes.loc['TTM', hypothetical_bond], 1)\n",
    "    # print(T0)\n",
    "    \n",
    "    call_date = pd.to_datetime(info.loc['Date of First Possible Call', hypothetical_bond])\n",
    "    quote_date = pd.to_datetime(quotes.loc['Date Quoted', hypothetical_bond])\n",
    "    \n",
    "    T_call = round((call_date - quote_date).days / 365.25, 1)\n",
    "    \n",
    "    P0 = bond_prices_df.loc[hypothetical_bond, 'Hypothetical Price']\n",
    "\n",
    "    \n",
    "    D_T0 = discs.loc[T0, 'discount'] \n",
    "    # print(D_T0)\n",
    "    D_T_call = discs.loc[T_call, 'discount']\n",
    "    \n",
    "\n",
    "    # print(D_T_call)\n",
    "    forward_price = P0 * (D_T0 / D_T_call)\n",
    "    \n",
    "    return forward_price\n"
   ]
  },
  {
   "cell_type": "code",
   "execution_count": 196,
   "metadata": {},
   "outputs": [
    {
     "name": "stdout",
     "output_type": "stream",
     "text": [
      "Forward Price at Call Date: 93.32\n"
     ]
    }
   ],
   "source": [
    "forward_price = calc_forward_price(hypothetical_bond_name, quotes, discs, bond_prices_df, info)\n",
    "print(f\"Forward Price at Call Date: {forward_price:.2f}\")"
   ]
  },
  {
   "cell_type": "markdown",
   "metadata": {},
   "source": [
    "### 1.3.\n",
    "\n",
    "The provided implied vol corresponds to the implied vol of the **rate**. Specifically,\n",
    "* the forward rate corresponding to the time of expiration.\n",
    "* continuously compounded.\n",
    "\n",
    "Use the duration approximation to get the approximate implied vol corresponding to the forward price.\n",
    "\n",
    "$$\\sigma_{\\text{bond fwd price}} \\approx D \\times \\sigma_{\\text{fwd rate}}\\times f(T_1)$$\n",
    "\n",
    "where $f(T_1)$ is the continuously-compounded (instantaneous) forward rate at time $T_1$.\n",
    "* If you're struggling with the forward rate calc, just usse the provided spot rate at $T_1$; it will be a close approximation in this example.\n",
    "* In this approximation, use the quoted duration from the table. (Yes, this is a bit circular, but we don't want to get bogged down with a duration calculation at this point.)\n",
    "\n",
    "Report the implied vol of the bond's forward price."
   ]
  },
  {
   "cell_type": "code",
   "execution_count": 197,
   "metadata": {},
   "outputs": [
    {
     "name": "stdout",
     "output_type": "stream",
     "text": [
      "Implied Volatility of Bond Forward Price: 4.39%\n"
     ]
    }
   ],
   "source": [
    "def calc_implied_vol(hypothetical_bond, quotes, discs):\n",
    "    # Extract duration from the quotes data\n",
    "    D = quotes.loc['Duration', hypothetical_bond]\n",
    "\n",
    "    # Extract the implied volatility of the forward rate\n",
    "    sigma_fwd_rate = quotes.loc['Implied Vol', hypothetical_bond] / 100  # Convert percentage to decimal\n",
    "\n",
    "    # Extract T_call (TTM at first call date)\n",
    "    # T_call = quotes.loc['TTM', hypothetical_bond]\n",
    "    T_call = round(quotes.loc['TTM', hypothetical_bond], 1)  # Round to 2 decimal places\n",
    "\n",
    "\n",
    "    # Compute the forward rate at T_call (use spot rate as approximation if needed)\n",
    "    if 'forward rate' in discs.columns:\n",
    "        fwd_rate = discs.loc[T_call, 'forward rate']\n",
    "    else:\n",
    "        fwd_rate = discount_to_intrate(discs.loc[T_call, 'discount'], T_call)  # Approximate using spot rate\n",
    "\n",
    "    # Compute the implied volatility of the bond's forward price\n",
    "    sigma_bond_fwd_price = D * sigma_fwd_rate * fwd_rate\n",
    "\n",
    "    return sigma_bond_fwd_price\n",
    "\n",
    "# Compute implied volatility of the bond's forward price\n",
    "implied_vol_bond_fwd_price = calc_implied_vol(hypothetical_bond_name, quotes, discs)\n",
    "print(f\"Implied Volatility of Bond Forward Price: {implied_vol_bond_fwd_price:.2%}\")\n"
   ]
  },
  {
   "cell_type": "markdown",
   "metadata": {},
   "source": [
    "### 1.4.\n",
    "\n",
    "For the `callable` bond, report Black's value of the embedded call option.\n",
    "* Use this to report the value of the `callable` bond.\n",
    "* How does it compare to the actual market price?\n",
    "\n",
    "For the calculation of the option, use...\n",
    "* the quoted `Implied Vol` calculated above.\n",
    "* forward price of the `hypothetical` bond calculated above.\n",
    "* provided discount factor\n",
    "\n",
    "#### Simplifications\n",
    "Note that in this calculation we are making a few simplifications.\n",
    "* We are simplifying that the `callable` bond is European exercise with an exercise date as reported in `Date Next Call` above. \n",
    "* In reality, it is Bermudan, with quarterly exercise dates after the first exercise date.\n",
    "* The time-to-exercise is not a round number, but you only have discount factors at rounded time-to-maturities. Just use the closest discount factor."
   ]
  },
  {
   "cell_type": "code",
   "execution_count": 198,
   "metadata": {},
   "outputs": [],
   "source": [
    "def calc_black_call_value(hypothetical_bond, callable_bond, quotes, discs, bond_prices_df, info):\n",
    "    # Extract forward price of the hypothetical bond (from 1.2)\n",
    "    F = calc_forward_price(hypothetical_bond, quotes, discs, bond_prices_df, info)\n",
    "\n",
    "    # Extract strike price (assume 100)\n",
    "    K = 100\n",
    "\n",
    "    # Extract implied volatility of the forward rate (from 1.3)\n",
    "    sigma = calc_implied_vol(hypothetical_bond, quotes, discs)\n",
    "\n",
    "    # Extract time to exercise (T_call - T0)\n",
    "    call_date = pd.to_datetime(info.loc['Date Next Call', callable_bond])\n",
    "    quote_date = pd.to_datetime(quotes.loc['Date Quoted', callable_bond])\n",
    "    T_exercise = (call_date - quote_date).days / 365.25  # Convert to years\n",
    "\n",
    "    # Round T_exercise to match closest available discount factor\n",
    "    T_exercise = round(T_exercise, 1)\n",
    "\n",
    "    # Extract discount factor at T_exercise\n",
    "    D_T = discs.loc[T_exercise, 'discount']\n",
    "\n",
    "    # Compute Black's value of the call option using the provided function\n",
    "    call_value = blacks_formula(T_exercise, sigma, K, F, discount=D_T, isCall=True)\n",
    "\n",
    "    return call_value\n"
   ]
  },
  {
   "cell_type": "code",
   "execution_count": 199,
   "metadata": {},
   "outputs": [
    {
     "name": "stdout",
     "output_type": "stream",
     "text": [
      "Black's Value of Embedded Call Option: 0.64\n"
     ]
    }
   ],
   "source": [
    "black_call_value = calc_black_call_value(hypothetical_bond_name, KEY_CALLABLE, quotes, discs, bond_prices_df, info)\n",
    "print(f\"Black's Value of Embedded Call Option: {black_call_value:.2f}\")"
   ]
  },
  {
   "cell_type": "code",
   "execution_count": 200,
   "metadata": {},
   "outputs": [
    {
     "name": "stdout",
     "output_type": "stream",
     "text": [
      "Callable Bond Price: 100.59\n"
     ]
    }
   ],
   "source": [
    "# Compute the price of the callable bond\n",
    "hypothetical_price = bond_prices_df.loc[KEY_CALLABLE, 'Hypothetical Price']\n",
    "callable_bond_price = hypothetical_price - black_call_value\n",
    "\n",
    "print(f\"Callable Bond Price: {callable_bond_price:.2f}\")"
   ]
  },
  {
   "cell_type": "code",
   "execution_count": 201,
   "metadata": {},
   "outputs": [
    {
     "name": "stdout",
     "output_type": "stream",
     "text": [
      "Market Price: 100.09\n",
      "Difference between Computed and Market Price: 0.50\n"
     ]
    }
   ],
   "source": [
    "market_price = quotes.loc['Dirty Price', KEY_CALLABLE]\n",
    "print(f\"Market Price: {market_price:.2f}\")\n",
    "\n",
    "difference = callable_bond_price - market_price\n",
    "print(f\"Difference between Computed and Market Price: {difference:.2f}\")"
   ]
  },
  {
   "cell_type": "markdown",
   "metadata": {},
   "source": [
    "The computed callable bond price is 0.50 lower than the actual market price (100.09). This suggests the market is pricing in a lower probability of early call, higher interest rate volatility, or a liquidity premium."
   ]
  },
  {
   "cell_type": "markdown",
   "metadata": {},
   "source": [
    "### 1.5.\n",
    "\n",
    "Calculate the YTM of the callable bond, assuming that...\n",
    "* it can never be called. (This is the `hypothetical` bond we analyzed above.)\n",
    "* it will certainly be called.\n",
    "\n",
    "How do these compare to the quoted YTM Called and YTM Maturity in the table?"
   ]
  },
  {
   "cell_type": "code",
   "execution_count": 202,
   "metadata": {},
   "outputs": [],
   "source": [
    "def calc_ytm_callable_bond(callable_bond, bond_prices_df, quotes, info):\n",
    "    # Extract bond details\n",
    "    TTM_maturity = quotes.loc['TTM', callable_bond]  # Time to maturity\n",
    "    TTM_call = (pd.to_datetime(info.loc['Date Next Call', callable_bond]) - pd.to_datetime(quotes.loc['Date Quoted', callable_bond])).days / 365.25  # Time to first call\n",
    "    freq = info.loc['Cpn Freq', callable_bond]  # Coupon frequency\n",
    "    cpn = info.loc['Cpn Rate', callable_bond]  # Coupon rate\n",
    "\n",
    "    # Extract bond prices\n",
    "    P_hypothetical = bond_prices_df.loc[callable_bond, 'Hypothetical Price']  # Never called scenario\n",
    "    P_called = quotes.loc['Dirty Price', callable_bond]  # Certainly called scenario\n",
    "\n",
    "    # Compute YTM assuming it will never be called\n",
    "    ytm_never_called = ytm(P_hypothetical, TTM_maturity, cpn, cpnfreq=freq, face=100)\n",
    "\n",
    "    # Compute YTM assuming it will certainly be called\n",
    "    ytm_certainly_called = ytm(P_called, TTM_call, cpn, cpnfreq=freq, face=100)\n",
    "\n",
    "    return ytm_never_called[0], ytm_certainly_called[0]\n"
   ]
  },
  {
   "cell_type": "code",
   "execution_count": 203,
   "metadata": {},
   "outputs": [
    {
     "name": "stdout",
     "output_type": "stream",
     "text": [
      "YTM (Never Called - Hypothetical Bond): 4.13%\n",
      "YTM (Certainly Called at First Call Date): 4.38%\n"
     ]
    }
   ],
   "source": [
    "# Compute YTMs\n",
    "ytm_never_called, ytm_certainly_called = calc_ytm_callable_bond(KEY_CALLABLE, bond_prices_df, quotes, info)\n",
    "\n",
    "print(f\"YTM (Never Called - Hypothetical Bond): {ytm_never_called:.2%}\")\n",
    "print(f\"YTM (Certainly Called at First Call Date): {ytm_certainly_called:.2%}\")"
   ]
  },
  {
   "cell_type": "code",
   "execution_count": 204,
   "metadata": {},
   "outputs": [
    {
     "name": "stdout",
     "output_type": "stream",
     "text": [
      "Quoted YTM Maturity: 4.43%\n",
      "Quoted YTM Called: 4.45%\n"
     ]
    }
   ],
   "source": [
    "# Compare with quoted YTM Called and YTM Maturity\n",
    "ytm_quoted_maturity = quotes.loc['YTM Maturity', KEY_CALLABLE]\n",
    "ytm_quoted_called = quotes.loc['YTM Call', KEY_CALLABLE]\n",
    "\n",
    "print(f\"Quoted YTM Maturity: {ytm_quoted_maturity/100:.2%}\")\n",
    "print(f\"Quoted YTM Called: {ytm_quoted_called/100:.2%}\")"
   ]
  },
  {
   "cell_type": "markdown",
   "metadata": {},
   "source": [
    "YTM (Never Called) = 4.13% is lower than Quoted YTM Maturity (4.43%), suggesting the market expects a slightly higher yield if the bond is held to maturity.\n",
    "\n",
    "YTM (Certainly Called) = 4.38% is slightly lower than Quoted YTM Called (4.45%), indicating the market may price in a slightly higher call risk or discount factor.\n",
    "\n",
    "Overall, the computed YTMs are close to the quoted values, suggesting the model aligns well with market expectations."
   ]
  },
  {
   "cell_type": "markdown",
   "metadata": {},
   "source": [
    "### 1.6.\n",
    "\n",
    "Calculate the duration of...\n",
    "* the `hypothetical` bond\n",
    "* the `callable` bond\n",
    "\n",
    "How do these compare to the quoted duration in the table?\n",
    "\n",
    "For the callable bond, calculate duration numerically by modifying the spot rates up and down by 1bp and seeing how it changes the valuation of parts `1.1`-`1.3`."
   ]
  },
  {
   "cell_type": "code",
   "execution_count": 205,
   "metadata": {},
   "outputs": [
    {
     "name": "stdout",
     "output_type": "stream",
     "text": [
      "Duration (Hypothetical Bond): 4.5086\n"
     ]
    }
   ],
   "source": [
    "def calc_duration_hypothetical(hypothetical_bond, bond_prices_df, quotes, info):\n",
    "    # Extract bond details\n",
    "    TTM = quotes.loc['TTM', hypothetical_bond]  # Time to maturity\n",
    "    freq = info.loc['Cpn Freq', hypothetical_bond]  # Coupon frequency\n",
    "    cpn = info.loc['Cpn Rate', hypothetical_bond]  # Coupon rate\n",
    "    ytm_hypothetical = ytm(bond_prices_df.loc[hypothetical_bond, 'Hypothetical Price'], TTM, cpn, cpnfreq=freq, face=100)\n",
    "\n",
    "    # Compute duration using the closed-form formula\n",
    "    duration_hypothetical = duration_formula(TTM, ytm_hypothetical[0], cpnrate=cpn, freq=freq)\n",
    "\n",
    "    return duration_hypothetical\n",
    "\n",
    "# Compute duration for the hypothetical bond\n",
    "duration_hypothetical = calc_duration_hypothetical(KEY_CALLABLE, bond_prices_df, quotes, info)\n",
    "print(f\"Duration (Hypothetical Bond): {duration_hypothetical:.4f}\")"
   ]
  },
  {
   "cell_type": "code",
   "execution_count": 219,
   "metadata": {},
   "outputs": [
    {
     "name": "stdout",
     "output_type": "stream",
     "text": [
      "Duration (Callable Bond): 4.5743\n"
     ]
    }
   ],
   "source": [
    "def calc_duration_callable(callable_bond, quotes, discs, bond_prices_df, info):\n",
    "    # Extract original price of the callable bond\n",
    "    P_orig = callable_bond_price\n",
    "\n",
    "    # Shift spot rates up and down by 1bp\n",
    "    shift_bp = 0.0001\n",
    "    discs_up = discs.copy()\n",
    "    discs_down = discs.copy()\n",
    "\n",
    "    # Modify discount factors by shifting spot rates\n",
    "    discs_up['discount'] = intrate_to_discount(discount_to_intrate(discs['discount'], discs.index) + shift_bp, discs.index)\n",
    "    discs_down['discount'] = intrate_to_discount(discount_to_intrate(discs['discount'], discs.index) - shift_bp, discs.index)\n",
    "\n",
    "    # Recalculate callable bond price with shifted discount curves\n",
    "    P_up = (calc_cashflows_2(quotes, discs_up, info).loc[callable_bond] * discs_up.loc[discs_up.index, 'discount']).sum()\n",
    "    P_down = (calc_cashflows_2(quotes, discs_down, info).loc[callable_bond] * discs_down.loc[discs_down.index, 'discount']).sum()\n",
    "\n",
    "    # Compute numerical duration\n",
    "    duration_callable = -(P_up - P_down) / (2 * shift_bp * P_orig)\n",
    "\n",
    "    return duration_callable, discs_up, discs_down\n",
    "\n",
    "# Compute duration for the callable bond & get shifted discount curves\n",
    "duration_callable, discs_up, discs_down = calc_duration_callable(KEY_CALLABLE, quotes, discs, bond_prices_df, info)\n",
    "print(f\"Duration (Callable Bond): {duration_callable:.4f}\")\n"
   ]
  },
  {
   "cell_type": "code",
   "execution_count": 208,
   "metadata": {},
   "outputs": [
    {
     "name": "stdout",
     "output_type": "stream",
     "text": [
      "Quoted Duration: 4.4967\n",
      "Difference (Hypothetical - Quoted): 0.0119\n",
      "Difference (Callable - Quoted): 0.0776\n"
     ]
    }
   ],
   "source": [
    "# Extract quoted duration\n",
    "quoted_duration = quotes.loc['Duration', KEY_CALLABLE]\n",
    "\n",
    "print(f\"Quoted Duration: {quoted_duration:.4f}\")\n",
    "print(f\"Difference (Hypothetical - Quoted): {duration_hypothetical - quoted_duration:.4f}\")\n",
    "print(f\"Difference (Callable - Quoted): {duration_callable - quoted_duration:.4f}\")"
   ]
  },
  {
   "cell_type": "markdown",
   "metadata": {},
   "source": [
    "- Hypothetical Bond Duration (4.5086) ≈ Quoted Duration (4.4967) → Market expectations align closely with the non-callable assumption.  \n",
    "- Callable Bond Duration (4.4191) < Quoted Duration (4.4967) → Market expects some probability of early call, reducing duration slightly.  \n",
    "- The callable bond's duration is lower than the hypothetical bond’s, as expected**, since the embedded call option limits interest rate sensitivity."
   ]
  },
  {
   "cell_type": "code",
   "execution_count": 228,
   "metadata": {},
   "outputs": [],
   "source": [
    "# 1.1 changes\n",
    "cashflows_up = calc_cashflows_2(quotes, discs_up, bond_info=info)\n",
    "bond_prices_up = (cashflows_up * discs_up.loc[cashflows_up.columns, 'discount']).sum(axis=1)\n",
    "\n",
    "bond_prices_df_up = pd.DataFrame(bond_prices_up, columns=['Hypothetical Price Up'])"
   ]
  },
  {
   "cell_type": "code",
   "execution_count": 229,
   "metadata": {},
   "outputs": [],
   "source": [
    "cashflows_down = calc_cashflows_2(quotes, discs_down, bond_info=info)\n",
    "bond_prices_down = (cashflows_down * discs_down.loc[cashflows_down.columns, 'discount']).sum(axis=1)\n",
    "\n",
    "bond_prices_df_down = pd.DataFrame(bond_prices_down, columns=['Hypothetical Price Down'])"
   ]
  },
  {
   "cell_type": "code",
   "execution_count": 230,
   "metadata": {},
   "outputs": [
    {
     "name": "stdout",
     "output_type": "stream",
     "text": [
      "                      Hypothetical Price\n",
      "FHLMC 0.97 01/28/28            91.116157\n",
      "FHLMC 1 1/4 01/29/30           87.093759\n",
      "FHLMC 4.41 01/28/30           101.227143\n",
      "                      Hypothetical Price Up\n",
      "FHLMC 0.97 01/28/28               91.089172\n",
      "FHLMC 1 1/4 01/29/30              87.051528\n",
      "FHLMC 4.41 01/28/30              101.181143\n",
      "                      Hypothetical Price Down\n",
      "FHLMC 0.97 01/28/28                 91.143149\n",
      "FHLMC 1 1/4 01/29/30                87.136012\n",
      "FHLMC 4.41 01/28/30                101.273165\n"
     ]
    }
   ],
   "source": [
    "print(bond_prices_df)\n",
    "print(bond_prices_df_up)\n",
    "print(bond_prices_df_down)"
   ]
  },
  {
   "cell_type": "markdown",
   "metadata": {},
   "source": [
    "- As expected, when rates increase (+1bp), bond prices decrease, and when rates decrease (-1bp), bond prices increase.  \n",
    "- The hypothetical callable bond (FHLMC 4.41 01/28/30) sees a small price change between 101.1811 (up) and 101.2732 (down), indicating moderate interest rate sensitivity.  \n",
    "- The reference bonds (FHLMC 0.97 01/28/28 and FHLMC 1 1/4 01/29/30) show similar inverse price movements.  \n",
    "- Overall, the bond prices behave as expected, confirming the model’s consistency with interest rate shifts."
   ]
  },
  {
   "cell_type": "code",
   "execution_count": 232,
   "metadata": {},
   "outputs": [],
   "source": [
    "bond_prices_df_up = bond_prices_df_up.rename(columns={'Hypothetical Price Up': 'Hypothetical Price'})\n",
    "bond_prices_df_down = bond_prices_df_down.rename(columns={'Hypothetical Price Down': 'Hypothetical Price'})"
   ]
  },
  {
   "cell_type": "code",
   "execution_count": 233,
   "metadata": {},
   "outputs": [
    {
     "name": "stdout",
     "output_type": "stream",
     "text": [
      "Forward Price at Call Date Up: 93.26\n",
      "Forward Price at Call Date Down: 93.38\n",
      "Forward Price at Call Date: 93.32\n"
     ]
    }
   ],
   "source": [
    "#1.2 changes\n",
    "forward_price_up = calc_forward_price(hypothetical_bond_name, quotes, discs_up, bond_prices_df_up, info)\n",
    "print(f\"Forward Price at Call Date Up: {forward_price_up:.2f}\")\n",
    "\n",
    "forward_price_down = calc_forward_price(hypothetical_bond_name, quotes, discs_down, bond_prices_df_down, info)\n",
    "print(f\"Forward Price at Call Date Down: {forward_price_down:.2f}\")\n",
    "\n",
    "print(f\"Forward Price at Call Date: {forward_price:.2f}\")"
   ]
  },
  {
   "cell_type": "markdown",
   "metadata": {},
   "source": [
    "As expected, the forward price decreases when rates increase (+1bp) and increases when rates decrease (-1bp).\n",
    "\n",
    "The forward price shift is small (93.26 to 93.38), indicating limited sensitivity to small rate changes.\n",
    "\n",
    "This suggests that the forward pricing model is stable and consistent with expected rate movements."
   ]
  },
  {
   "cell_type": "code",
   "execution_count": 234,
   "metadata": {},
   "outputs": [
    {
     "name": "stdout",
     "output_type": "stream",
     "text": [
      "Implied Volatility of Bond Forward Price: 4.39%\n",
      "Implied Volatility of Bond Forward Price Up: 4.40%\n",
      "Implied Volatility of Bond Forward Price Down: 4.38%\n"
     ]
    }
   ],
   "source": [
    "#1.3\n",
    "\n",
    "print(f\"Implied Volatility of Bond Forward Price: {implied_vol_bond_fwd_price:.2%}\")\n",
    "\n",
    "implied_vol_bond_fwd_price_up = calc_implied_vol(hypothetical_bond_name, quotes, discs_up)\n",
    "print(f\"Implied Volatility of Bond Forward Price Up: {implied_vol_bond_fwd_price_up:.2%}\")\n",
    "\n",
    "implied_vol_bond_fwd_price_down = calc_implied_vol(hypothetical_bond_name, quotes, discs_down)\n",
    "print(f\"Implied Volatility of Bond Forward Price Down: {implied_vol_bond_fwd_price_down:.2%}\")"
   ]
  },
  {
   "cell_type": "markdown",
   "metadata": {},
   "source": [
    "The implied volatility of the bond’s forward price shows minimal sensitivity to a ±1bp shift in rates (ranging from 4.38% to 4.40%).\n",
    "\n",
    "This indicates that small interest rate movements have a negligible impact on forward price volatility.\n",
    "\n",
    "The model is stable, and the implied vol remains consistent with expectations."
   ]
  },
  {
   "cell_type": "markdown",
   "metadata": {},
   "source": [
    "### 1.7.\n",
    "\n",
    "Calculate the OAS of the `callable` bond.\n",
    "\n",
    "How does it compare to the quoted OAS?\n",
    "\n",
    "Recall that the OAS is the parallel shift in the spot curve needed to align the modeled value to the market quote."
   ]
  },
  {
   "cell_type": "code",
   "execution_count": 216,
   "metadata": {},
   "outputs": [
    {
     "name": "stdout",
     "output_type": "stream",
     "text": [
      "Computed OAS: 24.89 bps\n",
      "Quoted OAS: 26.77 bps\n",
      "Difference (Computed - Quoted): -1.88 bps\n"
     ]
    }
   ],
   "source": [
    "from scipy.optimize import fsolve\n",
    "\n",
    "def calc_oas(callable_bond, quotes, discs, bond_prices_df, info):\n",
    "    # Extract market price (dirty price)\n",
    "    P_market = quotes.loc['Dirty Price', callable_bond]\n",
    "\n",
    "    # Function to solve for OAS\n",
    "    def oas_equation(oas):\n",
    "        # Shift spot rates\n",
    "        shifted_rates = discount_to_intrate(discs['discount'], discs.index) + oas\n",
    "        shifted_discounts = intrate_to_discount(shifted_rates, discs.index)\n",
    "\n",
    "        # Compute callable bond price using shifted discount curve\n",
    "        P_model = (calc_cashflows_2(quotes, discs, info).loc[callable_bond] * shifted_discounts).sum()\n",
    "\n",
    "        return P_model - P_market\n",
    "\n",
    "    # Solve for OAS\n",
    "    oas_solution = fsolve(oas_equation, 0.0001)[0]  # Initial guess = 1bp\n",
    "\n",
    "    return oas_solution * 10000  # Convert to basis points (bps)\n",
    "\n",
    "# Compute OAS\n",
    "oas_computed = calc_oas(KEY_CALLABLE, quotes, discs, bond_prices_df, info)\n",
    "print(f\"Computed OAS: {oas_computed:.2f} bps\")\n",
    "\n",
    "# Compare to quoted OAS\n",
    "oas_quoted = quotes.loc['OAS Spread', KEY_CALLABLE]*-1\n",
    "print(f\"Quoted OAS: {oas_quoted:.2f} bps\")\n",
    "\n",
    "# Difference between computed and quoted OAS\n",
    "oas_difference = oas_computed - oas_quoted\n",
    "print(f\"Difference (Computed - Quoted): {oas_difference:.2f} bps\")"
   ]
  },
  {
   "cell_type": "markdown",
   "metadata": {},
   "source": [
    "Computed OAS (24.89 bps) < Quoted OAS (26.77 bps) by 1.88 bps, meaning our model suggests a slightly lower spread is needed to match the market price.\n",
    "\n",
    "This indicates that the market is pricing slightly more credit or liquidity risk than our model assumes.\n",
    "\n",
    "The difference is small, suggesting the model is well-aligned with market expectations."
   ]
  },
  {
   "cell_type": "markdown",
   "metadata": {},
   "source": [
    "### 1.8. Optional\n",
    "\n",
    "Calculate the forward price of the `hypothetical` bond, but try doing so by using the `reference` bonds to calculate the forward price.\n",
    "* The prices of these reference bonds would be discount factors, and we simply take the ratio.\n",
    "* However, the coupons of the bonds do not align, so you need to adjust for this fact."
   ]
  },
  {
   "cell_type": "markdown",
   "metadata": {},
   "source": [
    "### 1.9. Optional\n",
    "\n",
    "Analyze what we have called the `reference` bonds as `callable` bonds. \n",
    "\n",
    "Calculate its value, YTMs, duration, and OAS."
   ]
  },
  {
   "cell_type": "markdown",
   "metadata": {},
   "source": [
    "***"
   ]
  },
  {
   "cell_type": "markdown",
   "metadata": {},
   "source": [
    "# 2. Pricing Floors"
   ]
  },
  {
   "cell_type": "markdown",
   "metadata": {},
   "source": [
    "### Data\n",
    "\n",
    "The file `data/cap_curves_2025-01-31.xlsx` has market data on the following curves:\n",
    "* swap rates (SOFR)\n",
    "* discount factors\n",
    "* forward rates \n",
    "* flat volatilites\n",
    "\n",
    "A few details\n",
    "* the swap and forward rates are quarterly compounded.\n",
    "* the flat volatilites are (Black) quotes on caps containing caplets ranging from expiration of $\\tau=.5$ to $\\tau=T$."
   ]
  },
  {
   "cell_type": "code",
   "execution_count": 37,
   "metadata": {},
   "outputs": [
    {
     "data": {
      "text/html": [
       "<div>\n",
       "<style scoped>\n",
       "    .dataframe tbody tr th:only-of-type {\n",
       "        vertical-align: middle;\n",
       "    }\n",
       "\n",
       "    .dataframe tbody tr th {\n",
       "        vertical-align: top;\n",
       "    }\n",
       "\n",
       "    .dataframe thead th {\n",
       "        text-align: right;\n",
       "    }\n",
       "</style>\n",
       "<table border=\"1\" class=\"dataframe\">\n",
       "  <thead>\n",
       "    <tr style=\"text-align: right;\">\n",
       "      <th></th>\n",
       "      <th>swap rates</th>\n",
       "      <th>spot rates</th>\n",
       "      <th>discounts</th>\n",
       "      <th>forwards</th>\n",
       "      <th>flat vols</th>\n",
       "      <th>fwd vols</th>\n",
       "    </tr>\n",
       "    <tr>\n",
       "      <th>tenor</th>\n",
       "      <th></th>\n",
       "      <th></th>\n",
       "      <th></th>\n",
       "      <th></th>\n",
       "      <th></th>\n",
       "      <th></th>\n",
       "    </tr>\n",
       "  </thead>\n",
       "  <tbody>\n",
       "    <tr>\n",
       "      <th>0.25</th>\n",
       "      <td>0.042340</td>\n",
       "      <td>0.042340</td>\n",
       "      <td>0.989526</td>\n",
       "      <td>NaN</td>\n",
       "      <td>NaN</td>\n",
       "      <td>NaN</td>\n",
       "    </tr>\n",
       "    <tr>\n",
       "      <th>0.50</th>\n",
       "      <td>0.041854</td>\n",
       "      <td>0.041852</td>\n",
       "      <td>0.979398</td>\n",
       "      <td>0.041364</td>\n",
       "      <td>0.101500</td>\n",
       "      <td>0.101500</td>\n",
       "    </tr>\n",
       "    <tr>\n",
       "      <th>0.75</th>\n",
       "      <td>0.041404</td>\n",
       "      <td>0.041397</td>\n",
       "      <td>0.969584</td>\n",
       "      <td>0.040489</td>\n",
       "      <td>0.116946</td>\n",
       "      <td>0.128478</td>\n",
       "    </tr>\n",
       "    <tr>\n",
       "      <th>1.00</th>\n",
       "      <td>0.041029</td>\n",
       "      <td>0.041018</td>\n",
       "      <td>0.960012</td>\n",
       "      <td>0.039882</td>\n",
       "      <td>0.132391</td>\n",
       "      <td>0.154562</td>\n",
       "    </tr>\n",
       "    <tr>\n",
       "      <th>1.25</th>\n",
       "      <td>0.040458</td>\n",
       "      <td>0.040438</td>\n",
       "      <td>0.950950</td>\n",
       "      <td>0.038117</td>\n",
       "      <td>0.159421</td>\n",
       "      <td>0.219138</td>\n",
       "    </tr>\n",
       "  </tbody>\n",
       "</table>\n",
       "</div>"
      ],
      "text/plain": [
       "       swap rates  spot rates  discounts  forwards  flat vols  fwd vols\n",
       "tenor                                                                  \n",
       "0.25     0.042340    0.042340   0.989526       NaN        NaN       NaN\n",
       "0.50     0.041854    0.041852   0.979398  0.041364   0.101500  0.101500\n",
       "0.75     0.041404    0.041397   0.969584  0.040489   0.116946  0.128478\n",
       "1.00     0.041029    0.041018   0.960012  0.039882   0.132391  0.154562\n",
       "1.25     0.040458    0.040438   0.950950  0.038117   0.159421  0.219138"
      ]
     },
     "execution_count": 37,
     "metadata": {},
     "output_type": "execute_result"
    }
   ],
   "source": [
    "flr_df = pd.read_excel('../data/cap_curves_2025-01-31.xlsx').set_index('tenor')\n",
    "flr_df.head()"
   ]
  },
  {
   "cell_type": "markdown",
   "metadata": {},
   "source": [
    "### 2.1.\n",
    "\n",
    "Recall that a floor is a portfolio of floorlets which\n",
    "* depend on the realized interest rate one quarter before the expiration.\n",
    "* each have the same strike interest rate.\n",
    "\n",
    "Use Black's formula to price **just one floorlet**\n",
    "* expiring at `T=3`\n",
    "* struck at the `T=3` swap rate\n",
    "* notional of `100`\n",
    "* quarterly frequency"
   ]
  },
  {
   "cell_type": "code",
   "execution_count": 49,
   "metadata": {},
   "outputs": [],
   "source": [
    "T = 3\n",
    "dt = 1 / 4\n",
    "notional = 100\n",
    "strike = flr_df['swap rates'].loc[T]\n",
    "fwd_rate = flr_df['forwards'].loc[T - dt]\n",
    "discount = flr_df['discounts'].loc[T]\n",
    "volatility = flr_df['flat vols'].loc[T]"
   ]
  },
  {
   "cell_type": "code",
   "execution_count": 50,
   "metadata": {},
   "outputs": [],
   "source": [
    "def price_floorlet(T_rateset,vol,strike,fwd,discount,freq=4,notional=100):\n",
    "    dt = 1/freq\n",
    "    price = notional * dt * blacks_formula(T_rateset, vol, strike, fwd, discount, isCall=False)\n",
    "    return price"
   ]
  },
  {
   "cell_type": "code",
   "execution_count": 51,
   "metadata": {},
   "outputs": [
    {
     "name": "stdout",
     "output_type": "stream",
     "text": [
      "Floorlet Price at T=3: 0.1364\n"
     ]
    }
   ],
   "source": [
    "floorlet_price = price_floorlet(T_rateset=T-dt, vol=volatility, strike=strike, fwd=fwd_rate, discount=discount, freq=4, notional=notional)\n",
    "\n",
    "print(f\"Floorlet Price at T=3: {floorlet_price:.4f}\")"
   ]
  },
  {
   "cell_type": "markdown",
   "metadata": {},
   "source": [
    "### 2.2.\n",
    "\n",
    "Use Black's formula to price the entire floor with expiration of `T=3`.\n",
    "\n",
    "The floor has floorlets at `quarterly` frequency, except the first quarter."
   ]
  },
  {
   "cell_type": "code",
   "execution_count": 52,
   "metadata": {},
   "outputs": [],
   "source": [
    "tenors = [t for t in flr_df.index if 0.75 <= t <= T]"
   ]
  },
  {
   "cell_type": "code",
   "execution_count": 53,
   "metadata": {},
   "outputs": [
    {
     "data": {
      "text/plain": [
       "0.03966708990589706"
      ]
     },
     "execution_count": 53,
     "metadata": {},
     "output_type": "execute_result"
    }
   ],
   "source": [
    "strike"
   ]
  },
  {
   "cell_type": "code",
   "execution_count": 54,
   "metadata": {},
   "outputs": [
    {
     "name": "stdout",
     "output_type": "stream",
     "text": [
      "Total Floor Price for T=3: 0.9361\n"
     ]
    }
   ],
   "source": [
    "floor_price = 0\n",
    "for T in tenors:\n",
    "    # if T - dt < flr_df.index[1]:\n",
    "    #     continue\n",
    "    # print(T-dt)\n",
    "    fwd_rate = flr_df['forwards'].loc[T - dt]\n",
    "    discount = flr_df['discounts'].loc[T]\n",
    "    volatility = flr_df['flat vols'].loc[T]\n",
    "\n",
    "    # print(fwd_rate)\n",
    "    # print(discount)\n",
    "    # print(volatility)\n",
    "\n",
    "    floorlet_price = price_floorlet(T_rateset=T-dt, vol=volatility, strike=strike, \n",
    "                                    fwd=fwd_rate, discount=discount, freq=4, notional=notional)\n",
    "    \n",
    "    floor_price += floorlet_price\n",
    "\n",
    "print(f\"Total Floor Price for T=3: {floor_price:.4f}\")"
   ]
  },
  {
   "cell_type": "markdown",
   "metadata": {},
   "source": [
    "***"
   ]
  },
  {
   "cell_type": "markdown",
   "metadata": {},
   "source": [
    "# 3. Stripping Caps"
   ]
  },
  {
   "cell_type": "markdown",
   "metadata": {},
   "source": [
    "### Data\n",
    "\n",
    "Continue with the file `data/cap_curves_2025-01-31.xlsx`."
   ]
  },
  {
   "cell_type": "code",
   "execution_count": 67,
   "metadata": {},
   "outputs": [
    {
     "data": {
      "text/html": [
       "<div>\n",
       "<style scoped>\n",
       "    .dataframe tbody tr th:only-of-type {\n",
       "        vertical-align: middle;\n",
       "    }\n",
       "\n",
       "    .dataframe tbody tr th {\n",
       "        vertical-align: top;\n",
       "    }\n",
       "\n",
       "    .dataframe thead th {\n",
       "        text-align: right;\n",
       "    }\n",
       "</style>\n",
       "<table border=\"1\" class=\"dataframe\">\n",
       "  <thead>\n",
       "    <tr style=\"text-align: right;\">\n",
       "      <th></th>\n",
       "      <th>swap rates</th>\n",
       "      <th>spot rates</th>\n",
       "      <th>discounts</th>\n",
       "      <th>forwards</th>\n",
       "      <th>flat vols</th>\n",
       "      <th>fwd vols</th>\n",
       "    </tr>\n",
       "    <tr>\n",
       "      <th>tenor</th>\n",
       "      <th></th>\n",
       "      <th></th>\n",
       "      <th></th>\n",
       "      <th></th>\n",
       "      <th></th>\n",
       "      <th></th>\n",
       "    </tr>\n",
       "  </thead>\n",
       "  <tbody>\n",
       "    <tr>\n",
       "      <th>0.25</th>\n",
       "      <td>0.042340</td>\n",
       "      <td>0.042340</td>\n",
       "      <td>0.989526</td>\n",
       "      <td>NaN</td>\n",
       "      <td>NaN</td>\n",
       "      <td>NaN</td>\n",
       "    </tr>\n",
       "    <tr>\n",
       "      <th>0.50</th>\n",
       "      <td>0.041854</td>\n",
       "      <td>0.041852</td>\n",
       "      <td>0.979398</td>\n",
       "      <td>0.041364</td>\n",
       "      <td>0.101500</td>\n",
       "      <td>0.101500</td>\n",
       "    </tr>\n",
       "    <tr>\n",
       "      <th>0.75</th>\n",
       "      <td>0.041404</td>\n",
       "      <td>0.041397</td>\n",
       "      <td>0.969584</td>\n",
       "      <td>0.040489</td>\n",
       "      <td>0.116946</td>\n",
       "      <td>0.128478</td>\n",
       "    </tr>\n",
       "    <tr>\n",
       "      <th>1.00</th>\n",
       "      <td>0.041029</td>\n",
       "      <td>0.041018</td>\n",
       "      <td>0.960012</td>\n",
       "      <td>0.039882</td>\n",
       "      <td>0.132391</td>\n",
       "      <td>0.154562</td>\n",
       "    </tr>\n",
       "    <tr>\n",
       "      <th>1.25</th>\n",
       "      <td>0.040458</td>\n",
       "      <td>0.040438</td>\n",
       "      <td>0.950950</td>\n",
       "      <td>0.038117</td>\n",
       "      <td>0.159421</td>\n",
       "      <td>0.219138</td>\n",
       "    </tr>\n",
       "  </tbody>\n",
       "</table>\n",
       "</div>"
      ],
      "text/plain": [
       "       swap rates  spot rates  discounts  forwards  flat vols  fwd vols\n",
       "tenor                                                                  \n",
       "0.25     0.042340    0.042340   0.989526       NaN        NaN       NaN\n",
       "0.50     0.041854    0.041852   0.979398  0.041364   0.101500  0.101500\n",
       "0.75     0.041404    0.041397   0.969584  0.040489   0.116946  0.128478\n",
       "1.00     0.041029    0.041018   0.960012  0.039882   0.132391  0.154562\n",
       "1.25     0.040458    0.040438   0.950950  0.038117   0.159421  0.219138"
      ]
     },
     "execution_count": 67,
     "metadata": {},
     "output_type": "execute_result"
    }
   ],
   "source": [
    "str_df = pd.read_excel('../data/cap_curves_2025-01-31.xlsx').set_index('tenor')\n",
    "str_df.head()"
   ]
  },
  {
   "cell_type": "markdown",
   "metadata": {},
   "source": [
    "### 3.1 Cap Prices\n",
    "\n",
    "For each cap maturity, $.5\\le T \\le 10$, use the flat volatility to get the price of the cap.\n",
    "\n",
    "Report the cap prices across expirations, $.5\\le T \\le 10$.\n",
    "\n",
    "Plot the cap prices across expirations."
   ]
  },
  {
   "cell_type": "code",
   "execution_count": 68,
   "metadata": {},
   "outputs": [],
   "source": [
    "capcurves = flat_to_forward_vol(str_df)"
   ]
  },
  {
   "cell_type": "code",
   "execution_count": 69,
   "metadata": {},
   "outputs": [
    {
     "data": {
      "text/html": [
       "<div>\n",
       "<style scoped>\n",
       "    .dataframe tbody tr th:only-of-type {\n",
       "        vertical-align: middle;\n",
       "    }\n",
       "\n",
       "    .dataframe tbody tr th {\n",
       "        vertical-align: top;\n",
       "    }\n",
       "\n",
       "    .dataframe thead th {\n",
       "        text-align: right;\n",
       "    }\n",
       "</style>\n",
       "<table border=\"1\" class=\"dataframe\">\n",
       "  <thead>\n",
       "    <tr style=\"text-align: right;\">\n",
       "      <th></th>\n",
       "      <th>cap prices</th>\n",
       "    </tr>\n",
       "    <tr>\n",
       "      <th>tenor</th>\n",
       "      <th></th>\n",
       "    </tr>\n",
       "  </thead>\n",
       "  <tbody>\n",
       "    <tr>\n",
       "      <th>0.50</th>\n",
       "      <td>0.015175</td>\n",
       "    </tr>\n",
       "    <tr>\n",
       "      <th>0.75</th>\n",
       "      <td>0.045982</td>\n",
       "    </tr>\n",
       "    <tr>\n",
       "      <th>1.00</th>\n",
       "      <td>0.093612</td>\n",
       "    </tr>\n",
       "    <tr>\n",
       "      <th>1.25</th>\n",
       "      <td>0.170663</td>\n",
       "    </tr>\n",
       "    <tr>\n",
       "      <th>1.50</th>\n",
       "      <td>0.266562</td>\n",
       "    </tr>\n",
       "    <tr>\n",
       "      <th>1.75</th>\n",
       "      <td>0.378443</td>\n",
       "    </tr>\n",
       "    <tr>\n",
       "      <th>2.00</th>\n",
       "      <td>0.503493</td>\n",
       "    </tr>\n",
       "    <tr>\n",
       "      <th>2.25</th>\n",
       "      <td>0.633188</td>\n",
       "    </tr>\n",
       "    <tr>\n",
       "      <th>2.50</th>\n",
       "      <td>0.770615</td>\n",
       "    </tr>\n",
       "    <tr>\n",
       "      <th>2.75</th>\n",
       "      <td>0.915246</td>\n",
       "    </tr>\n",
       "    <tr>\n",
       "      <th>3.00</th>\n",
       "      <td>1.066978</td>\n",
       "    </tr>\n",
       "    <tr>\n",
       "      <th>3.25</th>\n",
       "      <td>1.221333</td>\n",
       "    </tr>\n",
       "    <tr>\n",
       "      <th>3.50</th>\n",
       "      <td>1.380580</td>\n",
       "    </tr>\n",
       "    <tr>\n",
       "      <th>3.75</th>\n",
       "      <td>1.548446</td>\n",
       "    </tr>\n",
       "    <tr>\n",
       "      <th>4.00</th>\n",
       "      <td>1.720100</td>\n",
       "    </tr>\n",
       "    <tr>\n",
       "      <th>4.25</th>\n",
       "      <td>1.888844</td>\n",
       "    </tr>\n",
       "    <tr>\n",
       "      <th>4.50</th>\n",
       "      <td>2.058566</td>\n",
       "    </tr>\n",
       "    <tr>\n",
       "      <th>4.75</th>\n",
       "      <td>2.236026</td>\n",
       "    </tr>\n",
       "    <tr>\n",
       "      <th>5.00</th>\n",
       "      <td>2.423081</td>\n",
       "    </tr>\n",
       "    <tr>\n",
       "      <th>5.25</th>\n",
       "      <td>2.619359</td>\n",
       "    </tr>\n",
       "    <tr>\n",
       "      <th>5.50</th>\n",
       "      <td>2.821886</td>\n",
       "    </tr>\n",
       "    <tr>\n",
       "      <th>5.75</th>\n",
       "      <td>3.026043</td>\n",
       "    </tr>\n",
       "    <tr>\n",
       "      <th>6.00</th>\n",
       "      <td>3.226008</td>\n",
       "    </tr>\n",
       "    <tr>\n",
       "      <th>6.25</th>\n",
       "      <td>3.416542</td>\n",
       "    </tr>\n",
       "    <tr>\n",
       "      <th>6.50</th>\n",
       "      <td>3.599130</td>\n",
       "    </tr>\n",
       "    <tr>\n",
       "      <th>6.75</th>\n",
       "      <td>3.778021</td>\n",
       "    </tr>\n",
       "    <tr>\n",
       "      <th>7.00</th>\n",
       "      <td>3.958679</td>\n",
       "    </tr>\n",
       "    <tr>\n",
       "      <th>7.25</th>\n",
       "      <td>4.146149</td>\n",
       "    </tr>\n",
       "    <tr>\n",
       "      <th>7.50</th>\n",
       "      <td>4.339463</td>\n",
       "    </tr>\n",
       "    <tr>\n",
       "      <th>7.75</th>\n",
       "      <td>4.535520</td>\n",
       "    </tr>\n",
       "    <tr>\n",
       "      <th>8.00</th>\n",
       "      <td>4.730590</td>\n",
       "    </tr>\n",
       "    <tr>\n",
       "      <th>8.25</th>\n",
       "      <td>4.921209</td>\n",
       "    </tr>\n",
       "    <tr>\n",
       "      <th>8.50</th>\n",
       "      <td>5.107185</td>\n",
       "    </tr>\n",
       "    <tr>\n",
       "      <th>8.75</th>\n",
       "      <td>5.289389</td>\n",
       "    </tr>\n",
       "    <tr>\n",
       "      <th>9.00</th>\n",
       "      <td>5.468922</td>\n",
       "    </tr>\n",
       "    <tr>\n",
       "      <th>9.25</th>\n",
       "      <td>5.647126</td>\n",
       "    </tr>\n",
       "    <tr>\n",
       "      <th>9.50</th>\n",
       "      <td>5.825579</td>\n",
       "    </tr>\n",
       "    <tr>\n",
       "      <th>9.75</th>\n",
       "      <td>6.006102</td>\n",
       "    </tr>\n",
       "    <tr>\n",
       "      <th>10.00</th>\n",
       "      <td>6.190761</td>\n",
       "    </tr>\n",
       "  </tbody>\n",
       "</table>\n",
       "</div>"
      ],
      "text/plain": [
       "       cap prices\n",
       "tenor            \n",
       "0.50     0.015175\n",
       "0.75     0.045982\n",
       "1.00     0.093612\n",
       "1.25     0.170663\n",
       "1.50     0.266562\n",
       "1.75     0.378443\n",
       "2.00     0.503493\n",
       "2.25     0.633188\n",
       "2.50     0.770615\n",
       "2.75     0.915246\n",
       "3.00     1.066978\n",
       "3.25     1.221333\n",
       "3.50     1.380580\n",
       "3.75     1.548446\n",
       "4.00     1.720100\n",
       "4.25     1.888844\n",
       "4.50     2.058566\n",
       "4.75     2.236026\n",
       "5.00     2.423081\n",
       "5.25     2.619359\n",
       "5.50     2.821886\n",
       "5.75     3.026043\n",
       "6.00     3.226008\n",
       "6.25     3.416542\n",
       "6.50     3.599130\n",
       "6.75     3.778021\n",
       "7.00     3.958679\n",
       "7.25     4.146149\n",
       "7.50     4.339463\n",
       "7.75     4.535520\n",
       "8.00     4.730590\n",
       "8.25     4.921209\n",
       "8.50     5.107185\n",
       "8.75     5.289389\n",
       "9.00     5.468922\n",
       "9.25     5.647126\n",
       "9.50     5.825579\n",
       "9.75     6.006102\n",
       "10.00    6.190761"
      ]
     },
     "execution_count": 69,
     "metadata": {},
     "output_type": "execute_result"
    }
   ],
   "source": [
    "capcurves[['cap prices']].iloc[1:]"
   ]
  },
  {
   "cell_type": "code",
   "execution_count": 70,
   "metadata": {},
   "outputs": [
    {
     "data": {
      "image/png": "[encoded data removed]",
      "text/plain": [
       "<Figure size 800x500 with 1 Axes>"
      ]
     },
     "metadata": {},
     "output_type": "display_data"
    }
   ],
   "source": [
    "import matplotlib.pyplot as plt\n",
    "\n",
    "plt.figure(figsize=(8, 5))\n",
    "plt.plot(capcurves.index, capcurves['cap prices'], marker='o', linestyle='-')\n",
    "plt.xlabel(\"Cap Expiration (Years)\")\n",
    "plt.ylabel(\"Cap Price\")\n",
    "plt.title(\"Cap Prices Across Expirations\")\n",
    "plt.grid()\n",
    "plt.show()\n"
   ]
  },
  {
   "cell_type": "markdown",
   "metadata": {},
   "source": [
    "### 3.2 Caplet Prices and Forward Volatilities\n",
    "\n",
    "Using the cap prices, strip out the\n",
    "* caplet prices\n",
    "* forward volatility at $\\tau$ which properly prices caplet $\\tau$ using Black's formula.\n",
    "\n",
    "List and plot the forward volatility versus the flat volatiltiy."
   ]
  },
  {
   "cell_type": "code",
   "execution_count": 71,
   "metadata": {},
   "outputs": [
    {
     "data": {
      "text/html": [
       "<div>\n",
       "<style scoped>\n",
       "    .dataframe tbody tr th:only-of-type {\n",
       "        vertical-align: middle;\n",
       "    }\n",
       "\n",
       "    .dataframe tbody tr th {\n",
       "        vertical-align: top;\n",
       "    }\n",
       "\n",
       "    .dataframe thead th {\n",
       "        text-align: right;\n",
       "    }\n",
       "</style>\n",
       "<table border=\"1\" class=\"dataframe\">\n",
       "  <thead>\n",
       "    <tr style=\"text-align: right;\">\n",
       "      <th></th>\n",
       "      <th>flat vols</th>\n",
       "      <th>fwd vols</th>\n",
       "    </tr>\n",
       "    <tr>\n",
       "      <th>tenor</th>\n",
       "      <th></th>\n",
       "      <th></th>\n",
       "    </tr>\n",
       "  </thead>\n",
       "  <tbody>\n",
       "    <tr>\n",
       "      <th>0.50</th>\n",
       "      <td>0.101500</td>\n",
       "      <td>0.101500</td>\n",
       "    </tr>\n",
       "    <tr>\n",
       "      <th>0.75</th>\n",
       "      <td>0.116946</td>\n",
       "      <td>0.128478</td>\n",
       "    </tr>\n",
       "    <tr>\n",
       "      <th>1.00</th>\n",
       "      <td>0.132391</td>\n",
       "      <td>0.154562</td>\n",
       "    </tr>\n",
       "    <tr>\n",
       "      <th>1.25</th>\n",
       "      <td>0.159421</td>\n",
       "      <td>0.219138</td>\n",
       "    </tr>\n",
       "    <tr>\n",
       "      <th>1.50</th>\n",
       "      <td>0.180856</td>\n",
       "      <td>0.239613</td>\n",
       "    </tr>\n",
       "    <tr>\n",
       "      <th>1.75</th>\n",
       "      <td>0.197446</td>\n",
       "      <td>0.254106</td>\n",
       "    </tr>\n",
       "    <tr>\n",
       "      <th>2.00</th>\n",
       "      <td>0.209941</td>\n",
       "      <td>0.261605</td>\n",
       "    </tr>\n",
       "    <tr>\n",
       "      <th>2.25</th>\n",
       "      <td>0.219090</td>\n",
       "      <td>0.263323</td>\n",
       "    </tr>\n",
       "    <tr>\n",
       "      <th>2.50</th>\n",
       "      <td>0.225643</td>\n",
       "      <td>0.261958</td>\n",
       "    </tr>\n",
       "    <tr>\n",
       "      <th>2.75</th>\n",
       "      <td>0.230349</td>\n",
       "      <td>0.260092</td>\n",
       "    </tr>\n",
       "    <tr>\n",
       "      <th>3.00</th>\n",
       "      <td>0.233958</td>\n",
       "      <td>0.259670</td>\n",
       "    </tr>\n",
       "    <tr>\n",
       "      <th>3.25</th>\n",
       "      <td>0.237080</td>\n",
       "      <td>0.261343</td>\n",
       "    </tr>\n",
       "    <tr>\n",
       "      <th>3.50</th>\n",
       "      <td>0.239773</td>\n",
       "      <td>0.262688</td>\n",
       "    </tr>\n",
       "    <tr>\n",
       "      <th>3.75</th>\n",
       "      <td>0.241954</td>\n",
       "      <td>0.262505</td>\n",
       "    </tr>\n",
       "    <tr>\n",
       "      <th>4.00</th>\n",
       "      <td>0.243543</td>\n",
       "      <td>0.259870</td>\n",
       "    </tr>\n",
       "    <tr>\n",
       "      <th>4.25</th>\n",
       "      <td>0.244528</td>\n",
       "      <td>0.255238</td>\n",
       "    </tr>\n",
       "    <tr>\n",
       "      <th>4.50</th>\n",
       "      <td>0.245185</td>\n",
       "      <td>0.252773</td>\n",
       "    </tr>\n",
       "    <tr>\n",
       "      <th>4.75</th>\n",
       "      <td>0.245860</td>\n",
       "      <td>0.254442</td>\n",
       "    </tr>\n",
       "    <tr>\n",
       "      <th>5.00</th>\n",
       "      <td>0.246900</td>\n",
       "      <td>0.260893</td>\n",
       "    </tr>\n",
       "    <tr>\n",
       "      <th>5.25</th>\n",
       "      <td>0.248513</td>\n",
       "      <td>0.271322</td>\n",
       "    </tr>\n",
       "    <tr>\n",
       "      <th>5.50</th>\n",
       "      <td>0.250369</td>\n",
       "      <td>0.278085</td>\n",
       "    </tr>\n",
       "    <tr>\n",
       "      <th>5.75</th>\n",
       "      <td>0.251997</td>\n",
       "      <td>0.277677</td>\n",
       "    </tr>\n",
       "    <tr>\n",
       "      <th>6.00</th>\n",
       "      <td>0.252930</td>\n",
       "      <td>0.268423</td>\n",
       "    </tr>\n",
       "    <tr>\n",
       "      <th>6.25</th>\n",
       "      <td>0.252846</td>\n",
       "      <td>0.251530</td>\n",
       "    </tr>\n",
       "    <tr>\n",
       "      <th>6.50</th>\n",
       "      <td>0.252022</td>\n",
       "      <td>0.237305</td>\n",
       "    </tr>\n",
       "    <tr>\n",
       "      <th>6.75</th>\n",
       "      <td>0.250880</td>\n",
       "      <td>0.229540</td>\n",
       "    </tr>\n",
       "    <tr>\n",
       "      <th>7.00</th>\n",
       "      <td>0.249845</td>\n",
       "      <td>0.229629</td>\n",
       "    </tr>\n",
       "    <tr>\n",
       "      <th>7.25</th>\n",
       "      <td>0.249234</td>\n",
       "      <td>0.236796</td>\n",
       "    </tr>\n",
       "    <tr>\n",
       "      <th>7.50</th>\n",
       "      <td>0.248939</td>\n",
       "      <td>0.242724</td>\n",
       "    </tr>\n",
       "    <tr>\n",
       "      <th>7.75</th>\n",
       "      <td>0.248746</td>\n",
       "      <td>0.244539</td>\n",
       "    </tr>\n",
       "    <tr>\n",
       "      <th>8.00</th>\n",
       "      <td>0.248440</td>\n",
       "      <td>0.241455</td>\n",
       "    </tr>\n",
       "    <tr>\n",
       "      <th>8.25</th>\n",
       "      <td>0.247856</td>\n",
       "      <td>0.233915</td>\n",
       "    </tr>\n",
       "    <tr>\n",
       "      <th>8.50</th>\n",
       "      <td>0.247019</td>\n",
       "      <td>0.226310</td>\n",
       "    </tr>\n",
       "    <tr>\n",
       "      <th>8.75</th>\n",
       "      <td>0.246005</td>\n",
       "      <td>0.220006</td>\n",
       "    </tr>\n",
       "    <tr>\n",
       "      <th>9.00</th>\n",
       "      <td>0.244887</td>\n",
       "      <td>0.215257</td>\n",
       "    </tr>\n",
       "    <tr>\n",
       "      <th>9.25</th>\n",
       "      <td>0.243740</td>\n",
       "      <td>0.212322</td>\n",
       "    </tr>\n",
       "    <tr>\n",
       "      <th>9.50</th>\n",
       "      <td>0.242638</td>\n",
       "      <td>0.211467</td>\n",
       "    </tr>\n",
       "    <tr>\n",
       "      <th>9.75</th>\n",
       "      <td>0.241656</td>\n",
       "      <td>0.212966</td>\n",
       "    </tr>\n",
       "    <tr>\n",
       "      <th>10.00</th>\n",
       "      <td>0.240867</td>\n",
       "      <td>0.217106</td>\n",
       "    </tr>\n",
       "  </tbody>\n",
       "</table>\n",
       "</div>"
      ],
      "text/plain": [
       "       flat vols  fwd vols\n",
       "tenor                     \n",
       "0.50    0.101500  0.101500\n",
       "0.75    0.116946  0.128478\n",
       "1.00    0.132391  0.154562\n",
       "1.25    0.159421  0.219138\n",
       "1.50    0.180856  0.239613\n",
       "1.75    0.197446  0.254106\n",
       "2.00    0.209941  0.261605\n",
       "2.25    0.219090  0.263323\n",
       "2.50    0.225643  0.261958\n",
       "2.75    0.230349  0.260092\n",
       "3.00    0.233958  0.259670\n",
       "3.25    0.237080  0.261343\n",
       "3.50    0.239773  0.262688\n",
       "3.75    0.241954  0.262505\n",
       "4.00    0.243543  0.259870\n",
       "4.25    0.244528  0.255238\n",
       "4.50    0.245185  0.252773\n",
       "4.75    0.245860  0.254442\n",
       "5.00    0.246900  0.260893\n",
       "5.25    0.248513  0.271322\n",
       "5.50    0.250369  0.278085\n",
       "5.75    0.251997  0.277677\n",
       "6.00    0.252930  0.268423\n",
       "6.25    0.252846  0.251530\n",
       "6.50    0.252022  0.237305\n",
       "6.75    0.250880  0.229540\n",
       "7.00    0.249845  0.229629\n",
       "7.25    0.249234  0.236796\n",
       "7.50    0.248939  0.242724\n",
       "7.75    0.248746  0.244539\n",
       "8.00    0.248440  0.241455\n",
       "8.25    0.247856  0.233915\n",
       "8.50    0.247019  0.226310\n",
       "8.75    0.246005  0.220006\n",
       "9.00    0.244887  0.215257\n",
       "9.25    0.243740  0.212322\n",
       "9.50    0.242638  0.211467\n",
       "9.75    0.241656  0.212966\n",
       "10.00   0.240867  0.217106"
      ]
     },
     "execution_count": 71,
     "metadata": {},
     "output_type": "execute_result"
    }
   ],
   "source": [
    "capcurves[['flat vols', 'fwd vols']].iloc[1:]"
   ]
  },
  {
   "cell_type": "code",
   "execution_count": 72,
   "metadata": {},
   "outputs": [
    {
     "data": {
      "image/png": "[encoded data removed]",
      "text/plain": [
       "<Figure size 800x500 with 1 Axes>"
      ]
     },
     "metadata": {},
     "output_type": "display_data"
    }
   ],
   "source": [
    "import matplotlib.pyplot as plt\n",
    "\n",
    "plt.figure(figsize=(8, 5))\n",
    "plt.plot(capcurves.index[1:], capcurves.loc[capcurves.index[1:], 'fwd vols'], marker='o', linestyle='-', label=\"Forward Volatility\")\n",
    "plt.plot(capcurves.index[1:], capcurves.loc[capcurves.index[1:], 'flat vols'], marker='s', linestyle='--', label=\"Flat Volatility\")\n",
    "\n",
    "plt.xlabel(\"Tenor (Years)\")\n",
    "plt.ylabel(\"Volatility\")\n",
    "plt.title(\"Forward Volatility vs Flat Volatility\")\n",
    "plt.legend()\n",
    "plt.grid()\n",
    "plt.show()\n"
   ]
  },
  {
   "cell_type": "markdown",
   "metadata": {},
   "source": [
    "***"
   ]
  }
 ],
 "metadata": {
  "kernelspec": {
   "display_name": "venv",
   "language": "python",
   "name": "python3"
  },
  "language_info": {
   "codemirror_mode": {
    "name": "ipython",
    "version": 3
   },
   "file_extension": ".py",
   "mimetype": "text/x-python",
   "name": "python",
   "nbconvert_exporter": "python",
   "pygments_lexer": "ipython3",
   "version": "3.12.2"
  }
 },
 "nbformat": 4,
 "nbformat_minor": 2
}
